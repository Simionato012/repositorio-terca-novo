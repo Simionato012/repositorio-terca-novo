{
  "nbformat": 4,
  "nbformat_minor": 0,
  "metadata": {
    "colab": {
      "provenance": [],
      "authorship_tag": "ABX9TyMNvKhPjrM1YgMBwmMiBAse",
      "include_colab_link": true
    },
    "kernelspec": {
      "name": "python3",
      "display_name": "Python 3"
    },
    "language_info": {
      "name": "python"
    }
  },
  "cells": [
    {
      "cell_type": "markdown",
      "metadata": {
        "id": "view-in-github",
        "colab_type": "text"
      },
      "source": [
        "<a href=\"https://colab.research.google.com/github/Simionato012/repositorio-terca-novo/blob/main/terca.ipynb\" target=\"_parent\"><img src=\"https://colab.research.google.com/assets/colab-badge.svg\" alt=\"Open In Colab\"/></a>"
      ]
    },
    {
      "cell_type": "code",
      "execution_count": null,
      "metadata": {
        "colab": {
          "base_uri": "https://localhost:8080/"
        },
        "id": "RXumNnxalcP5",
        "outputId": "333d402f-89a6-403f-f845-be6b960fd8fc"
      },
      "outputs": [
        {
          "output_type": "stream",
          "name": "stdout",
          "text": [
            "1\n",
            "edu\n"
          ]
        }
      ],
      "source": [
        "print(1)\n",
        "print(\"edu\")"
      ]
    },
    {
      "cell_type": "markdown",
      "source": [
        "#variaveis"
      ],
      "metadata": {
        "id": "skxVMC1IoBWe"
      }
    },
    {
      "cell_type": "code",
      "source": [
        "#como escreve variaveis\n",
        "#normal\n",
        "num = 10\n",
        "numdois = 20\n",
        "#camelcase\n",
        "saldoBancarioDeHoje = 1000\n",
        "#snakecase\n",
        "saldo_bancario_de_ontem = -10000\n",
        "\n",
        "#Variavel nunca pode comecar com numero\n",
        "#Uma variavel nunca pode ter espaco, use o underline\n",
        "#Nao utilize estes simbolos /\\<>|()!@#$%&*-+\n",
        "#SEMPRE DEVE COMECAR POR LETRA MINUSCULA"
      ],
      "metadata": {
        "id": "YLOyDOlKoUaF"
      },
      "execution_count": null,
      "outputs": []
    },
    {
      "cell_type": "code",
      "source": [
        "print(saldo_bancario_de_ontem)\n",
        "print(\"Seu saldo bancario de ontem:\",saldo_bancario_de_ontem)"
      ],
      "metadata": {
        "colab": {
          "base_uri": "https://localhost:8080/"
        },
        "id": "TJdMmZ7FpVav",
        "outputId": "eca03c71-ec27-4b54-b80f-55c52a95b828"
      },
      "execution_count": null,
      "outputs": [
        {
          "output_type": "stream",
          "name": "stdout",
          "text": [
            "-10000\n",
            "Seu saldo bancario de ontem: -10000\n"
          ]
        }
      ]
    },
    {
      "cell_type": "markdown",
      "source": [
        "#tipo de numero"
      ],
      "metadata": {
        "id": "WhRoZxBuqFrW"
      }
    },
    {
      "cell_type": "code",
      "source": [
        "inteiro = 10\n",
        "\n",
        "type(inteiro)"
      ],
      "metadata": {
        "colab": {
          "base_uri": "https://localhost:8080/"
        },
        "id": "eS-vT5lBqHpU",
        "outputId": "6bf11cdb-23a9-43a2-9fab-54e8491d64d3"
      },
      "execution_count": null,
      "outputs": [
        {
          "output_type": "execute_result",
          "data": {
            "text/plain": [
              "int"
            ]
          },
          "metadata": {},
          "execution_count": 12
        }
      ]
    },
    {
      "cell_type": "code",
      "source": [
        "decimal = 10.5\n",
        "\n",
        "type(decimal)"
      ],
      "metadata": {
        "colab": {
          "base_uri": "https://localhost:8080/"
        },
        "id": "DV07lkIiqfWX",
        "outputId": "058d6d1f-b3d7-4ec0-933a-50d4396347c3"
      },
      "execution_count": null,
      "outputs": [
        {
          "output_type": "execute_result",
          "data": {
            "text/plain": [
              "float"
            ]
          },
          "metadata": {},
          "execution_count": 15
        }
      ]
    },
    {
      "cell_type": "code",
      "source": [
        "#adicao\n",
        "1 + 1\n",
        "#subtracao\n",
        "1 - 1\n",
        "#divisao\n",
        "14/7\n",
        "#multiplicacao\n",
        "4*9\n",
        "#exponencial\n",
        "10**2"
      ],
      "metadata": {
        "colab": {
          "base_uri": "https://localhost:8080/"
        },
        "id": "7SoMPxAKrC_0",
        "outputId": "89314908-4671-4674-aac1-8bcede9d76fd"
      },
      "execution_count": null,
      "outputs": [
        {
          "output_type": "execute_result",
          "data": {
            "text/plain": [
              "100"
            ]
          },
          "metadata": {},
          "execution_count": 20
        }
      ]
    },
    {
      "cell_type": "code",
      "source": [
        "#ordem das operacoes\n",
        "10 + 10 * 10"
      ],
      "metadata": {
        "colab": {
          "base_uri": "https://localhost:8080/"
        },
        "id": "psqHhiK7rd0E",
        "outputId": "ef511a1e-16a6-49a3-c69a-ca101ff6c3d3"
      },
      "execution_count": null,
      "outputs": [
        {
          "output_type": "execute_result",
          "data": {
            "text/plain": [
              "110"
            ]
          },
          "metadata": {},
          "execution_count": 21
        }
      ]
    },
    {
      "cell_type": "code",
      "source": [
        "#como especificar a ordem das operacoes\n",
        "(2 + 10) * (10 - 5)"
      ],
      "metadata": {
        "colab": {
          "base_uri": "https://localhost:8080/"
        },
        "id": "RpLZ-rFYrxw9",
        "outputId": "58c6d578-9ce3-4f5d-f174-c50ab238c5db"
      },
      "execution_count": null,
      "outputs": [
        {
          "output_type": "execute_result",
          "data": {
            "text/plain": [
              "60"
            ]
          },
          "metadata": {},
          "execution_count": 22
        }
      ]
    },
    {
      "cell_type": "code",
      "source": [
        "numero = 10\n",
        "print(numero)\n",
        "numero + numero\n",
        "print(numero)\n",
        "numero = 30\n",
        "print(numero)\n",
        "numero = numero + numero\n",
        "print(numero)"
      ],
      "metadata": {
        "colab": {
          "base_uri": "https://localhost:8080/"
        },
        "id": "28w71WuswqMR",
        "outputId": "b432bcff-2e71-4b46-d9bb-72eaab4db22a"
      },
      "execution_count": null,
      "outputs": [
        {
          "output_type": "stream",
          "name": "stdout",
          "text": [
            "10\n",
            "10\n",
            "30\n",
            "60\n"
          ]
        }
      ]
    },
    {
      "cell_type": "code",
      "source": [
        "#Escreva um programa que imprima seu nome na tela.\n",
        "print(\"Seu Nome\")"
      ],
      "metadata": {
        "colab": {
          "base_uri": "https://localhost:8080/"
        },
        "id": "oh4fZ70ZyV7g",
        "outputId": "804e8254-4b01-49fd-9771-a6bdb281d5ba"
      },
      "execution_count": null,
      "outputs": [
        {
          "output_type": "stream",
          "name": "stdout",
          "text": [
            "Seu Nome\n"
          ]
        }
      ]
    },
    {
      "cell_type": "code",
      "source": [
        "#Declare duas variáveis com números e imprima a soma deles.\n",
        "num1 = 5\n",
        "num2 = 3\n",
        "print(num1 + num2)\n",
        "\n",
        "num1 = 5\n",
        "num2 = 3\n",
        "soma = num1 + num2\n",
        "print(\"O resultado da soma é: \",soma)"
      ],
      "metadata": {
        "colab": {
          "base_uri": "https://localhost:8080/"
        },
        "id": "Ejyyo2mvyhj_",
        "outputId": "3d019230-fd00-4424-afe0-17f76e939b85"
      },
      "execution_count": null,
      "outputs": [
        {
          "output_type": "stream",
          "name": "stdout",
          "text": [
            "8\n",
            "O resultado da soma é:  8\n"
          ]
        }
      ]
    },
    {
      "cell_type": "code",
      "source": [
        "#Declare uma variável com uma mensagem pessoal e imprima-a.\n",
        "mensagem = \"Olá! Eu estou aprendendo Python.\"\n",
        "print(mensagem)"
      ],
      "metadata": {
        "colab": {
          "base_uri": "https://localhost:8080/"
        },
        "id": "br2ZkChryhtX",
        "outputId": "c5ba6bd1-1365-45a8-f88f-8648ee5064df"
      },
      "execution_count": null,
      "outputs": [
        {
          "output_type": "stream",
          "name": "stdout",
          "text": [
            "Olá! Eu estou aprendendo Python.\n"
          ]
        }
      ]
    },
    {
      "cell_type": "code",
      "source": [
        "#Declare duas variáveis com valores numéricos e imprima a soma, subtração, multiplicação e divisão delas.\n",
        "num1 = 8\n",
        "num2 = 4\n",
        "soma = num1 + num2\n",
        "subtracao = num1 - num2\n",
        "multiplicacao = num1 * num2\n",
        "divisao = num1 / num2\n",
        "exponencial = num1 ** num2\n",
        "\n",
        "print(\"soma: \", soma)\n",
        "print(\"subtracao: \", subtracao)\n",
        "print(\"multiplicacao: \", multiplicacao)\n",
        "print(\"divisao: \", divisao)\n",
        "print(\"Exponencial: \", exponencial)"
      ],
      "metadata": {
        "colab": {
          "base_uri": "https://localhost:8080/"
        },
        "id": "RknJwSuZ0Irp",
        "outputId": "f5f16ed9-a7f6-4488-ee61-777c25061bb9"
      },
      "execution_count": null,
      "outputs": [
        {
          "output_type": "stream",
          "name": "stdout",
          "text": [
            "soma:  12\n",
            "subtracao:  4\n",
            "multiplicacao:  32\n",
            "divisao:  2.0\n",
            "Exponencial|:  4096\n"
          ]
        }
      ]
    },
    {
      "cell_type": "markdown",
      "source": [
        "#STRING"
      ],
      "metadata": {
        "id": "zuJBx8Q3lBE4"
      }
    },
    {
      "cell_type": "code",
      "source": [
        "#uma palavra\n",
        "string1 = \"Oi!\"\n",
        "#uma frase\n",
        "string2 = \"Oi, como voce está?\"\n",
        "#uma frase com aspas simples\n",
        "string3 = 'Benicio ruinzao no brawl stars'\n"
      ],
      "metadata": {
        "id": "u4ObOZMdlDI0"
      },
      "execution_count": null,
      "outputs": []
    },
    {
      "cell_type": "code",
      "source": [
        "print(string1)\n",
        "print(string2)\n",
        "print(string3)"
      ],
      "metadata": {
        "colab": {
          "base_uri": "https://localhost:8080/"
        },
        "id": "k2JxT_LLmEeV",
        "outputId": "506f2697-4818-4008-f8d7-73de2c907dfc"
      },
      "execution_count": null,
      "outputs": [
        {
          "output_type": "stream",
          "name": "stdout",
          "text": [
            "Oi!\n",
            "Oi, como voce está?\n",
            "Benicio ruinzao no bral stars\n"
          ]
        }
      ]
    },
    {
      "cell_type": "code",
      "source": [
        "#Como utilizar as \"\" numa string\n",
        "string4 = 'Benicio é \"Bonito\"'\n",
        "print(string4)"
      ],
      "metadata": {
        "colab": {
          "base_uri": "https://localhost:8080/"
        },
        "id": "Nj0eWyFrnkGU",
        "outputId": "b1d80d85-f08a-476d-9886-48ea64691150"
      },
      "execution_count": null,
      "outputs": [
        {
          "output_type": "stream",
          "name": "stdout",
          "text": [
            "Benicio é \"Bonito\"\n"
          ]
        }
      ]
    },
    {
      "cell_type": "code",
      "source": [
        "#tres formas de imprimir uma string\n",
        "string5 = \"teste\"\n",
        "print(string5)\n",
        "print(\"teste\")\n",
        "'teste'"
      ],
      "metadata": {
        "colab": {
          "base_uri": "https://localhost:8080/",
          "height": 71
        },
        "id": "GyZIYZawovNU",
        "outputId": "c3eafe11-9f03-4875-e9b6-21d1702c62a1"
      },
      "execution_count": null,
      "outputs": [
        {
          "output_type": "stream",
          "name": "stdout",
          "text": [
            "teste\n",
            "teste\n"
          ]
        },
        {
          "output_type": "execute_result",
          "data": {
            "text/plain": [
              "'teste'"
            ],
            "application/vnd.google.colaboratory.intrinsic+json": {
              "type": "string"
            }
          },
          "metadata": {},
          "execution_count": 12
        }
      ]
    },
    {
      "cell_type": "code",
      "source": [
        "#utilizar \\n para saltar linhas\n",
        "print(\"Saltando agora \\nsaltei \\n!\")"
      ],
      "metadata": {
        "colab": {
          "base_uri": "https://localhost:8080/"
        },
        "id": "zT19oI5_qB-T",
        "outputId": "0c78e28e-54dd-4c01-f62f-e3677b10522b"
      },
      "execution_count": null,
      "outputs": [
        {
          "output_type": "stream",
          "name": "stdout",
          "text": [
            "Saltando agora \n",
            "saltei \n",
            "!\n"
          ]
        }
      ]
    },
    {
      "cell_type": "code",
      "source": [
        "#utilizar \\t para dar espaços maiores\n",
        "print(\"Estou saltando \\tsaltado!\")"
      ],
      "metadata": {
        "colab": {
          "base_uri": "https://localhost:8080/"
        },
        "id": "bIczQiQXq2R8",
        "outputId": "b92bf745-6208-459f-a4b0-770b6835bccf"
      },
      "execution_count": null,
      "outputs": [
        {
          "output_type": "stream",
          "name": "stdout",
          "text": [
            "Estou saltando \tsaltado!\n"
          ]
        }
      ]
    },
    {
      "cell_type": "code",
      "source": [
        "#veja quantos caracteres forma a frase\n",
        "frase = \"O papaleguas\"\n",
        "len(frase)"
      ],
      "metadata": {
        "colab": {
          "base_uri": "https://localhost:8080/"
        },
        "id": "lveYlYnwrzip",
        "outputId": "156e3d9a-c16d-4692-ba5a-9c866e7f4bfd"
      },
      "execution_count": null,
      "outputs": [
        {
          "output_type": "execute_result",
          "data": {
            "text/plain": [
              "12"
            ]
          },
          "metadata": {},
          "execution_count": 24
        }
      ]
    },
    {
      "cell_type": "code",
      "source": [
        "#indexação de string\n",
        "nome = \"Fulano da Silva Sauro\"\n",
        "#Imprimindo a primeira letra do nome\n",
        "print(nome[0])"
      ],
      "metadata": {
        "colab": {
          "base_uri": "https://localhost:8080/"
        },
        "id": "4stNK6-cuY4Q",
        "outputId": "f7b7a52b-5cbb-4c06-93ca-5627398eb207"
      },
      "execution_count": null,
      "outputs": [
        {
          "output_type": "stream",
          "name": "stdout",
          "text": [
            "F\n"
          ]
        }
      ]
    },
    {
      "cell_type": "code",
      "source": [
        "#Imprimindo a partir de um caractere\n",
        "print(nome[7:])\n",
        "#Imprimindo até um caractere\n",
        "print(nome[:7])\n",
        "#imprimir uma parte especifica\n",
        "print(nome[10:15])\n",
        "#imprimir retrocedendo\n",
        "print(nome[-1])\n",
        "#tudo menos a utima letra\n",
        "print(nome[:-1])"
      ],
      "metadata": {
        "colab": {
          "base_uri": "https://localhost:8080/"
        },
        "id": "vFJWQV_6vkLP",
        "outputId": "e1419ae3-e8ed-4618-e298-c94c7ddf255d"
      },
      "execution_count": null,
      "outputs": [
        {
          "output_type": "stream",
          "name": "stdout",
          "text": [
            "da Silva Sauro\n",
            "Fulano \n",
            "Silva\n",
            "o\n",
            "Fulano da Silva Saur\n"
          ]
        }
      ]
    },
    {
      "cell_type": "code",
      "source": [
        "#imprimir uma frase saltando letras de 2 em 2\n",
        "frase = \"Tsamina mina, eh, eh Waka waka, eh, eh Tsamina mina zangalewa\"\n",
        "print(frase[::2])"
      ],
      "metadata": {
        "colab": {
          "base_uri": "https://localhost:8080/"
        },
        "id": "jOB5Ot_G1d51",
        "outputId": "42e9b787-284e-4a0e-9aab-7815e37054c8"
      },
      "execution_count": null,
      "outputs": [
        {
          "output_type": "stream",
          "name": "stdout",
          "text": [
            "Taiamn,e,e aawk,e,e smn iaznaea\n"
          ]
        }
      ]
    },
    {
      "cell_type": "code",
      "source": [
        "#para encontrar caracteres dentro de uma string use o find()\n",
        "email = \"tsaminaeheh@Wakawaka.com.af\"\n",
        "print(email.find(\"@\"))"
      ],
      "metadata": {
        "colab": {
          "base_uri": "https://localhost:8080/"
        },
        "id": "4v4GaU863yQ6",
        "outputId": "f655b190-1910-4cf6-ef97-9db59ac09e76"
      },
      "execution_count": null,
      "outputs": [
        {
          "output_type": "stream",
          "name": "stdout",
          "text": [
            "11\n"
          ]
        }
      ]
    },
    {
      "cell_type": "code",
      "source": [
        "#utilize a função count para contar caracteres dentro de uma string\n",
        "email = \"tsaminaeheh@Wakawaka.com.af\"\n",
        "print(email.count(\".\"))"
      ],
      "metadata": {
        "colab": {
          "base_uri": "https://localhost:8080/"
        },
        "id": "Cy3ms9ZE59Jv",
        "outputId": "e0dd6023-e1dd-43dd-e11c-569ba84d6602"
      },
      "execution_count": null,
      "outputs": [
        {
          "output_type": "stream",
          "name": "stdout",
          "text": [
            "2\n"
          ]
        }
      ]
    },
    {
      "cell_type": "code",
      "source": [
        "#OPERADORES EM STRINGS\n",
        "\n",
        "#concatenação\n",
        "nome = \"José\"\n",
        "sobrenome = \" Bevidari\"\n",
        "print(nome+sobrenome)\n",
        "\n",
        "#repetição\n",
        "print(nome *3)"
      ],
      "metadata": {
        "colab": {
          "base_uri": "https://localhost:8080/"
        },
        "id": "87fMyT8R6hHi",
        "outputId": "926550ea-c79b-4c95-cc33-01096efeb4b2"
      },
      "execution_count": null,
      "outputs": [
        {
          "output_type": "stream",
          "name": "stdout",
          "text": [
            "José Bevidari\n",
            "JoséJoséJosé\n"
          ]
        }
      ]
    },
    {
      "cell_type": "code",
      "source": [
        "#numero nao podem ser conctenados com strings\n",
        "numero_de_irmaos = 2\n",
        "\n",
        "#use  funcao str() pois ela transforma numeros em strings\n",
        "print(\"Voce tem \" + str(numero_de_irmaos) + \" irmaos\")"
      ],
      "metadata": {
        "colab": {
          "base_uri": "https://localhost:8080/"
        },
        "id": "j-PcRbx57TWv",
        "outputId": "b8c29722-f5c4-42b9-dfab-2f7dcfeb8aba"
      },
      "execution_count": null,
      "outputs": [
        {
          "output_type": "stream",
          "name": "stdout",
          "text": [
            "Voce tem 2 irmaos\n"
          ]
        }
      ]
    },
    {
      "cell_type": "markdown",
      "source": [
        "#Listas e matrizes\n"
      ],
      "metadata": {
        "id": "vm0tkNqdqHoF"
      }
    },
    {
      "cell_type": "code",
      "source": [
        "#Como criar uma lista\n",
        "\n",
        "alunos = [\"Riquelme\", \"Benicio\", \"David\", \"Vinicius\", \"Eduardo\"]\n",
        "print(alunos)"
      ],
      "metadata": {
        "colab": {
          "base_uri": "https://localhost:8080/"
        },
        "id": "W4UsC_B_qNi8",
        "outputId": "58d0ed6f-9fa1-4a33-fc0b-4ca194481420"
      },
      "execution_count": null,
      "outputs": [
        {
          "output_type": "stream",
          "name": "stdout",
          "text": [
            "['Riquelme', 'Benicio', 'David', 'Vinicius', 'Eduardo']\n"
          ]
        }
      ]
    },
    {
      "cell_type": "code",
      "source": [
        "#Como exibir um indicie em especifico\n",
        "\n",
        "alunos = [\"Riquelme\", \"Benicio\", \"David\", \"Vinicius\", \"Eduardo\"]\n",
        "print(\"Primeiro aluno desta turma: \" + alunos[0])\n",
        "#os indicies em python comecam do valor 0"
      ],
      "metadata": {
        "colab": {
          "base_uri": "https://localhost:8080/"
        },
        "id": "mBHMLDZSr_c9",
        "outputId": "fa5b47e0-32d4-4835-e2f8-d7521deaed5e"
      },
      "execution_count": null,
      "outputs": [
        {
          "output_type": "stream",
          "name": "stdout",
          "text": [
            "Primeiro aluno desta turma: Riquelme\n"
          ]
        }
      ]
    },
    {
      "cell_type": "code",
      "source": [
        "#Como exibir um indicie em especifico\n",
        "\n",
        "alunos = [\"Riquelme\", \"Benicio\", \"David\", \"Vinicius\", \"Eduardo\"]\n",
        "print(\"Ultimo aluno desta turma: \" + alunos[-1])\n",
        "#os indicies em python comecam do valor 0"
      ],
      "metadata": {
        "colab": {
          "base_uri": "https://localhost:8080/"
        },
        "id": "fRRm7Gu7vCk2",
        "outputId": "df4178cc-b125-4913-9500-026bcce136b2"
      },
      "execution_count": null,
      "outputs": [
        {
          "output_type": "stream",
          "name": "stdout",
          "text": [
            "Ultimo aluno desta turma: Eduardo\n"
          ]
        }
      ]
    },
    {
      "cell_type": "code",
      "source": [
        "#Como substituir algo na lista\n",
        "\n",
        "alunos = [\"Riquelme\", \"Benicio\", \"David\", \"Vinicius\", \"Eduardo\"]\n",
        "alunos[4] = \"Patolino\"\n",
        "print(alunos)"
      ],
      "metadata": {
        "colab": {
          "base_uri": "https://localhost:8080/"
        },
        "id": "B7xlh1Kxv3k7",
        "outputId": "bb9cf84a-a2af-4fc8-ea96-88b65fc273c3"
      },
      "execution_count": null,
      "outputs": [
        {
          "output_type": "stream",
          "name": "stdout",
          "text": [
            "['Riquelme', 'Benicio', 'David', 'Vinicius', 'Patolino']\n"
          ]
        }
      ]
    },
    {
      "cell_type": "code",
      "source": [
        "#Como acrescentar itens dentro da lista\n",
        "\n",
        "alunos = [\"Riquelme\", \"Benicio\", \"David\", \"Vinicius\", \"Eduardo\"]\n",
        "alunos.append(\"Joaquim\")\n",
        "print(alunos)"
      ],
      "metadata": {
        "colab": {
          "base_uri": "https://localhost:8080/"
        },
        "id": "ZsQsnom4w6ws",
        "outputId": "f5465ec8-414d-4ed1-96e7-40a0c93159ae"
      },
      "execution_count": null,
      "outputs": [
        {
          "output_type": "stream",
          "name": "stdout",
          "text": [
            "['Riquelme', 'Benicio', 'David', 'Vinicius', 'Eduardo', 'Joaquim']\n"
          ]
        }
      ]
    },
    {
      "cell_type": "code",
      "source": [
        "#Como Inseriri algo na lista em um lugar em especifico\n",
        "\n",
        "alunos = [\"Riquelme\", \"Benicio\", \"David\", \"Vinicius\", \"Eduardo\"]\n",
        "alunos.insert(2, \"Arthur\")\n",
        "print(alunos)"
      ],
      "metadata": {
        "colab": {
          "base_uri": "https://localhost:8080/"
        },
        "id": "tOdVR8MkybHM",
        "outputId": "0dca9bd1-3bef-4b00-bfbb-228b0a167d5f"
      },
      "execution_count": null,
      "outputs": [
        {
          "output_type": "stream",
          "name": "stdout",
          "text": [
            "['Riquelme', 'Benicio', 'Arthur', 'David', 'Vinicius', 'Eduardo']\n"
          ]
        }
      ]
    },
    {
      "cell_type": "code",
      "source": [
        "#Como remover itens de uma lista\n",
        "\n",
        "alunos = [\"Riquelme\", \"Benicio\", \"David\", \"Vinicius\", \"Eduardo\"]\n",
        "del alunos[3]\n",
        "print(alunos)"
      ],
      "metadata": {
        "colab": {
          "base_uri": "https://localhost:8080/"
        },
        "id": "5QSLWNtxziXs",
        "outputId": "c3fd50cd-801b-46b8-df50-2851c60d23d3"
      },
      "execution_count": null,
      "outputs": [
        {
          "output_type": "stream",
          "name": "stdout",
          "text": [
            "['Riquelme', 'Benicio', 'David', 'Eduardo']\n"
          ]
        }
      ]
    },
    {
      "cell_type": "code",
      "source": [
        "#Como remover um por um da lista\n",
        "\n",
        "alunos = [\"Riquelme\", \"Benicio\", \"David\", \"Vinicius\", \"Eduardo\"]\n",
        "alunos.pop()\n",
        "print(alunos)"
      ],
      "metadata": {
        "colab": {
          "base_uri": "https://localhost:8080/"
        },
        "id": "E3VYtI7o0P07",
        "outputId": "a7672efb-1312-4fc9-d2eb-1101f2d3e6ed"
      },
      "execution_count": null,
      "outputs": [
        {
          "output_type": "stream",
          "name": "stdout",
          "text": [
            "['Riquelme', 'Benicio', 'David', 'Vinicius']\n"
          ]
        }
      ]
    },
    {
      "cell_type": "code",
      "source": [
        "#Como remover da lista em especifico utilizando o metodo . pop\n",
        "\n",
        "alunos = [\"Riquelme\", \"Benicio\", \"David\", \"Vinicius\", \"Eduardo\"]\n",
        "alunos.pop(1)\n",
        "print(alunos)"
      ],
      "metadata": {
        "colab": {
          "base_uri": "https://localhost:8080/"
        },
        "id": "bfCI_ghj1Kwj",
        "outputId": "865dcd0b-ddd3-4dc3-d695-ee5db340d793"
      },
      "execution_count": null,
      "outputs": [
        {
          "output_type": "stream",
          "name": "stdout",
          "text": [
            "['Riquelme', 'David', 'Vinicius', 'Eduardo']\n"
          ]
        }
      ]
    },
    {
      "cell_type": "code",
      "source": [
        "#Como remover um item sem dizer a sua posicao\n",
        "\n",
        "alunos = [\"Riquelme\", \"Benicio\", \"David\", \"Vinicius\", \"Eduardo\"]\n",
        "alunos.remove(\"Riquelme\")\n",
        "print(alunos)"
      ],
      "metadata": {
        "colab": {
          "base_uri": "https://localhost:8080/"
        },
        "id": "GEX6iDMT6p4h",
        "outputId": "7bda3418-fae8-423a-b222-f896f4fa7b43"
      },
      "execution_count": null,
      "outputs": [
        {
          "output_type": "stream",
          "name": "stdout",
          "text": [
            "['Benicio', 'David', 'Vinicius', 'Eduardo']\n"
          ]
        }
      ]
    },
    {
      "cell_type": "code",
      "source": [
        "#Como remover um item sem dizer a sua posicao\n",
        "\n",
        "alunos = [\"Riquelme\", \"Benicio\", \"David\", \"Vinicius\", \"Eduardo\"]\n",
        "viajando = \"Riquelme\"\n",
        "alunos.remove(viajando)\n",
        "print(alunos)"
      ],
      "metadata": {
        "colab": {
          "base_uri": "https://localhost:8080/"
        },
        "id": "7LdY8Rvb62jh",
        "outputId": "cd1ba716-cd8d-4f5c-e8f2-7d308a91f60d"
      },
      "execution_count": null,
      "outputs": [
        {
          "output_type": "stream",
          "name": "stdout",
          "text": [
            "['Benicio', 'David', 'Vinicius', 'Eduardo']\n"
          ]
        }
      ]
    },
    {
      "cell_type": "code",
      "source": [
        "#Como colocar uma lista em oredem alfabetica\n",
        "alunos = [\"Riquelme\", \"Benicio\", \"David\", \"Vinicius\", \"Eduardo\"]\n",
        "alunos.sort()\n",
        "print(alunos)\n",
        "\n",
        "#Como colocar em oredem inversa\n",
        "alunos = [\"Riquelme\", \"Benicio\", \"David\", \"Vinicius\", \"Eduardo\"]\n",
        "alunos.sort(reverse=True)\n",
        "print(alunos)\n",
        "\n",
        "#O metodo .sort() altera a lista original\n",
        "print(alunos)"
      ],
      "metadata": {
        "colab": {
          "base_uri": "https://localhost:8080/"
        },
        "id": "LjIRXTFz9ZZ5",
        "outputId": "490e7d08-bd1c-4697-e996-11865f0935ec"
      },
      "execution_count": null,
      "outputs": [
        {
          "output_type": "stream",
          "name": "stdout",
          "text": [
            "['Benicio', 'David', 'Eduardo', 'Riquelme', 'Vinicius']\n",
            "['Vinicius', 'Riquelme', 'Eduardo', 'David', 'Benicio']\n",
            "['Vinicius', 'Riquelme', 'Eduardo', 'David', 'Benicio']\n"
          ]
        }
      ]
    },
    {
      "cell_type": "code",
      "source": [
        "#Crie uma lista vazia e em seguida adicione 3 numeros ou palavras a ela, depois imprima a lista\n",
        "lista = []\n",
        "lista.append(1)\n",
        "lista.append(2)\n",
        "lista.append(4)\n",
        "print(lista)"
      ],
      "metadata": {
        "colab": {
          "base_uri": "https://localhost:8080/"
        },
        "id": "sKjD13zlAUYX",
        "outputId": "3b20874d-f22b-41e5-d38a-e448dda9488a"
      },
      "execution_count": null,
      "outputs": [
        {
          "output_type": "stream",
          "name": "stdout",
          "text": [
            "[1, 2, 4]\n"
          ]
        }
      ]
    },
    {
      "cell_type": "code",
      "source": [
        "#crie a lista que está a baixo, depois imprima o primeiro e o ultimo numero da lsita\n",
        "lista = [10, 20, 30, 40, 50]\n",
        "primeiro = lista[0]\n",
        "ultimo = lista[-1]\n",
        "print(\"Primeiro: \",primeiro)\n",
        "print(\"Ultimo: \",ultimo)"
      ],
      "metadata": {
        "colab": {
          "base_uri": "https://localhost:8080/"
        },
        "id": "IvVIkghIAUr4",
        "outputId": "06b23e78-c2e5-4cad-abce-c93324ce6be9"
      },
      "execution_count": null,
      "outputs": [
        {
          "output_type": "stream",
          "name": "stdout",
          "text": [
            "Primeiro:  10\n",
            "Ultimo:  50\n"
          ]
        }
      ]
    },
    {
      "cell_type": "code",
      "source": [
        "#crie a lista que está a baixo e atualize qualquer nome desta lista para outro nome\n",
        "lista = [\"Ana\", \"Caio\", \"Fabio\"]\n",
        "lista[0] = \"Oi\"\n",
        "print(lista)"
      ],
      "metadata": {
        "colab": {
          "base_uri": "https://localhost:8080/"
        },
        "id": "gIP2tvqqAUzt",
        "outputId": "14b11057-989c-4c84-f642-62209919f429"
      },
      "execution_count": null,
      "outputs": [
        {
          "output_type": "stream",
          "name": "stdout",
          "text": [
            "['Oi', 'Caio', 'Fabio']\n"
          ]
        }
      ]
    },
    {
      "cell_type": "markdown",
      "source": [
        "#CONDICIONAIS"
      ],
      "metadata": {
        "id": "q6INDtEOvlD3"
      }
    },
    {
      "cell_type": "code",
      "source": [
        "#OPERADORES DE COMPARACAO\n",
        "\n",
        "#IGUALDADE / ==\n",
        "#DIFERENTE / !=\n",
        "#MAIOR E MAIOR OU IGUAL / > E >=\n",
        "#MENOR E MENOR OU IGUAL / < E <=\n",
        "\n",
        "#IGUALDADE\n",
        "n1 = 10\n",
        "n2 = 50\n",
        "texto1 = \"santos\"\n",
        "texto2 = \"sao jose\"\n",
        "\n",
        "print(n1 == n2)\n",
        "print(n1 * 5 == n2)\n",
        "print(texto1 == texto2)\n",
        "print(\"-----------------------\")\n",
        "\n",
        "#DIFERENTE\n",
        "print(n1 != n2)\n",
        "print(n1 * 5 != n2)\n",
        "print(texto1 != texto2)\n",
        "print(\"-----------------------\")\n",
        "\n",
        "#MAIOR E MAIOR OU IGUAL\n",
        "print(n1 > n2)\n",
        "print(n1 * 5 > n2)\n",
        "print(n1 * 5 >= n2)\n",
        "print(\"-----------------------\")\n",
        "\n",
        "#MENOR E MENOR OU IGUAL\n",
        "print(n1 < n2)\n",
        "print(n1 * 5 < n2)\n",
        "print(n1 * 5 <= n2)"
      ],
      "metadata": {
        "colab": {
          "base_uri": "https://localhost:8080/"
        },
        "id": "_hr-noAovnxQ",
        "outputId": "99b39680-82d0-4fb8-b9c8-0b6ed2ab30d5"
      },
      "execution_count": null,
      "outputs": [
        {
          "output_type": "stream",
          "name": "stdout",
          "text": [
            "False\n",
            "True\n",
            "False\n",
            "-----------------------\n",
            "True\n",
            "False\n",
            "True\n",
            "-----------------------\n",
            "False\n",
            "False\n",
            "True\n",
            "-----------------------\n",
            "True\n",
            "False\n",
            "True\n"
          ]
        }
      ]
    },
    {
      "cell_type": "code",
      "source": [
        "#OPERADORES EM CADEIA\n",
        "#AND / Todas as condicoes precisam ser verdadeiras\n",
        "print( 1 < 2 < 3)\n",
        "\n",
        "#o mesmo que 1 < 2 < 3\n",
        "print( 1 < 2 and 2 < 3)\n",
        "\n",
        "print(1 < 2 and 2 < 3 and 3 > 4)\n",
        "print(\"--------------\")\n",
        "\n",
        "#OR / Uma condicao somente precisa ser verdadeira\n",
        "\n",
        "print( 1 > 2 or 1 < 2)"
      ],
      "metadata": {
        "colab": {
          "base_uri": "https://localhost:8080/"
        },
        "id": "vYXgjXlf1Dqz",
        "outputId": "00ab2eaa-25c5-4cef-833b-767a92b0ae09"
      },
      "execution_count": null,
      "outputs": [
        {
          "output_type": "stream",
          "name": "stdout",
          "text": [
            "True\n",
            "True\n",
            "False\n",
            "--------------\n",
            "True\n"
          ]
        }
      ]
    },
    {
      "cell_type": "markdown",
      "source": [
        "#CONDICIONAIS IF / ELIF / ELSE"
      ],
      "metadata": {
        "id": "mSOT3jYt4IJC"
      }
    },
    {
      "cell_type": "code",
      "source": [
        "#IF = SE\n",
        "#ELIF = SENAO\n",
        "#ELSE = ENTAO\n",
        "\n",
        "nota = float(input(\"Digite a sua nota: \"))\n",
        "\n",
        "if nota >= 6:\n",
        "  print(\"Aprovado\")\n",
        "elif nota >= 4 and nota < 6:\n",
        "  print(\"REC\")\n",
        "else:\n",
        "  print(\"Reprovado\")\n"
      ],
      "metadata": {
        "colab": {
          "base_uri": "https://localhost:8080/"
        },
        "id": "xjp3lyIC4MCZ",
        "outputId": "376ba093-734a-4a24-c442-d2978740440b"
      },
      "execution_count": null,
      "outputs": [
        {
          "output_type": "stream",
          "name": "stdout",
          "text": [
            "Digite a sua nota: 3.9\n",
            "Reprovado\n"
          ]
        }
      ]
    },
    {
      "cell_type": "code",
      "source": [
        "#Programa de verificacao de idade\n",
        "\n",
        "idade = float(input(\"Qual é a sua idade: \"))\n",
        "\n",
        "if idade >= 18:\n",
        "  print(\"Voce é maior de idade\")\n",
        "else:\n",
        "  print(\"Voce é menor de idade\")"
      ],
      "metadata": {
        "colab": {
          "base_uri": "https://localhost:8080/"
        },
        "id": "ejmlem7ZAlvk",
        "outputId": "eef77059-5263-41ef-d926-f09cfc7a4c67"
      },
      "execution_count": null,
      "outputs": [
        {
          "output_type": "stream",
          "name": "stdout",
          "text": [
            "Qual é a sua idade: 6\n",
            "Voce é menor de idade\n"
          ]
        }
      ]
    },
    {
      "cell_type": "code",
      "source": [
        "#Escreva um programa que pergunte ao usuário um número e, em seguida, imprima se o número é positivo, negativo ou zero.\n",
        "\n",
        "numero = float(input(\"Digite um numero: \"))\n",
        "\n",
        "if numero > 0:\n",
        "  print(\"Numero é maior que 0\")\n",
        "elif numero < 0:\n",
        "  print(\"Numero é menor que 0\")\n",
        "else:\n",
        "  print(\"Numeor é igual a 0\")"
      ],
      "metadata": {
        "colab": {
          "base_uri": "https://localhost:8080/"
        },
        "id": "L2MFfQjZBrjD",
        "outputId": "fec13e4f-c53a-4229-f6d6-b8de5692f683"
      },
      "execution_count": null,
      "outputs": [
        {
          "output_type": "stream",
          "name": "stdout",
          "text": [
            "Digite um numero: 90\n",
            "Numero é maior que 0\n"
          ]
        }
      ]
    },
    {
      "cell_type": "markdown",
      "source": [
        "#ESTRUTURAS DE REPETIÇÃO"
      ],
      "metadata": {
        "id": "ny-CtOoz57rw"
      }
    },
    {
      "cell_type": "code",
      "source": [
        "#FOR\n",
        "numeros = [1,2,3,4,5,6,7,8,9,10]\n",
        "\n",
        "for i in numeros:\n",
        "  print(i)"
      ],
      "metadata": {
        "colab": {
          "base_uri": "https://localhost:8080/"
        },
        "id": "0oDobrUl6IOI",
        "outputId": "dfaf0e66-f6b5-4ced-bb6b-0946c4b26ce7"
      },
      "execution_count": null,
      "outputs": [
        {
          "output_type": "stream",
          "name": "stdout",
          "text": [
            "1\n",
            "2\n",
            "3\n",
            "4\n",
            "5\n",
            "6\n",
            "7\n",
            "8\n",
            "9\n",
            "10\n"
          ]
        }
      ]
    },
    {
      "cell_type": "code",
      "source": [
        "for i in range(1,11):\n",
        "  print(i)"
      ],
      "metadata": {
        "colab": {
          "base_uri": "https://localhost:8080/"
        },
        "id": "mdle4u2XBI-f",
        "outputId": "e6266b6d-c6d4-4368-829c-64a54fbc03af"
      },
      "execution_count": null,
      "outputs": [
        {
          "output_type": "stream",
          "name": "stdout",
          "text": [
            "1\n",
            "2\n",
            "3\n",
            "4\n",
            "5\n",
            "6\n",
            "7\n",
            "8\n",
            "9\n",
            "10\n"
          ]
        }
      ]
    },
    {
      "cell_type": "code",
      "source": [
        "for num in range(1,11):\n",
        "  if num %2 == 0:\n",
        "    print(num)"
      ],
      "metadata": {
        "colab": {
          "base_uri": "https://localhost:8080/"
        },
        "id": "eIaOqHioCAme",
        "outputId": "d765c6d6-c1ab-4682-a122-d26d9704b3cb"
      },
      "execution_count": null,
      "outputs": [
        {
          "output_type": "stream",
          "name": "stdout",
          "text": [
            "2\n",
            "4\n",
            "6\n",
            "8\n",
            "10\n"
          ]
        }
      ]
    },
    {
      "cell_type": "code",
      "source": [
        "for letra in \"Riquelme\":\n",
        "  print(letra)"
      ],
      "metadata": {
        "colab": {
          "base_uri": "https://localhost:8080/"
        },
        "id": "Y6BtA4CpD4jv",
        "outputId": "ea052a76-2671-4560-f766-b2e30da15588"
      },
      "execution_count": null,
      "outputs": [
        {
          "output_type": "stream",
          "name": "stdout",
          "text": [
            "R\n",
            "i\n",
            "q\n",
            "u\n",
            "e\n",
            "l\n",
            "m\n",
            "e\n"
          ]
        }
      ]
    },
    {
      "cell_type": "code",
      "source": [
        "for num in range(2,21):\n",
        "  e_primo = True\n",
        "\n",
        "  for num_teste in range(2, num):\n",
        "    if num % num_teste == 0:\n",
        "      e_primo = False\n",
        "      break\n",
        "\n",
        "  if(e_primo):\n",
        "    print(\"É primo: \",num)\n",
        "  else:\n",
        "    print(\"Não é primo: \",num)\n"
      ],
      "metadata": {
        "colab": {
          "base_uri": "https://localhost:8080/"
        },
        "id": "dBPvgdi6ETB0",
        "outputId": "cf7229e0-d6ac-47c2-e054-70ebccbb2d85"
      },
      "execution_count": null,
      "outputs": [
        {
          "output_type": "stream",
          "name": "stdout",
          "text": [
            "É primo:  2\n",
            "É primo:  3\n",
            "Não é primo:  4\n",
            "É primo:  5\n",
            "Não é primo:  6\n",
            "É primo:  7\n",
            "Não é primo:  8\n",
            "Não é primo:  9\n",
            "Não é primo:  10\n",
            "É primo:  11\n",
            "Não é primo:  12\n",
            "É primo:  13\n",
            "Não é primo:  14\n",
            "Não é primo:  15\n",
            "Não é primo:  16\n",
            "É primo:  17\n",
            "Não é primo:  18\n",
            "É primo:  19\n",
            "Não é primo:  20\n"
          ]
        }
      ]
    },
    {
      "cell_type": "code",
      "source": [
        "from textwrap import wrap\n",
        "#WHILE\n",
        "\n",
        "n = 10\n",
        "\n",
        "while(n > 0):\n",
        "  print(n)\n",
        "  n = n - 1\n",
        "print(\"Encerrou\")"
      ],
      "metadata": {
        "colab": {
          "base_uri": "https://localhost:8080/"
        },
        "id": "OpE-AHJUG02L",
        "outputId": "b11e7cf4-8097-421f-a700-ddedafceeddc"
      },
      "execution_count": null,
      "outputs": [
        {
          "output_type": "stream",
          "name": "stdout",
          "text": [
            "10\n",
            "9\n",
            "8\n",
            "7\n",
            "6\n",
            "5\n",
            "4\n",
            "3\n",
            "2\n",
            "1\n",
            "Encerrou\n"
          ]
        }
      ]
    },
    {
      "cell_type": "markdown",
      "source": [
        "#OUTROS TIPOS DE LISTAS"
      ],
      "metadata": {
        "id": "w048xa4Nz7fp"
      }
    },
    {
      "cell_type": "code",
      "source": [
        "#Lists\n",
        "\n",
        "#Sao ordenados\n",
        "#pode ter qualquer tipo de dado\n",
        "#acessada por indicies a partir de 0\n",
        "#sao muitaveis, ou seja, podem ser modificadas depois de criadas\n",
        "#sao definidos por []\n",
        "\n",
        "meu_list = [1,2,3,4,5]\n",
        "\n",
        "#SETS\n",
        "\n",
        "#Nao sao ordenadas\n",
        "#Nao temos valores duplicados\n",
        "#a lista nao possui indicie\n",
        "#sao mutaveis, podemos adicionar e remover itens\n",
        "#sao definidos utilizando {}\n",
        "\n",
        "meus_sets = {1,2,3,4,5}\n",
        "\n",
        "#Tuples\n",
        "\n",
        "#Sao ordenadas e imutaveis(nao pode alterar nada depois de ser criada)\n",
        "#aceita qualquer tipo de dado\n",
        "#possui indicie\n",
        "#sao defnidas por ()\n",
        "\n",
        "mmeu_tuple = (1,2,3,4,5)\n",
        "\n",
        "#Dictionaries\n",
        "#Sao de pares chave-valor\n",
        "#os elemntos sao acessados por chaves, nao por indicies\n",
        "#as chaves devem ter um valor unico, porem o valor pode se repetir\n",
        "\n",
        "\n",
        "meu_dicionario = {\"senha\": 123, \"senha2\":321}"
      ],
      "metadata": {
        "id": "3pJMJ_KKz-TY"
      },
      "execution_count": null,
      "outputs": []
    },
    {
      "cell_type": "code",
      "source": [
        "#SETS\n",
        "#sao mutaveis e podemos utilizar metodos\n",
        "\n",
        "sets = set()\n",
        "\n",
        "sets.add(1)\n",
        "\n",
        "sets.add(2)\n",
        "\n",
        "print(sets)\n",
        "\n",
        "sets.add(1)\n",
        "#Listas do tipo Sets nao é possivel repetir valores/dados\n",
        "\n",
        "print(sets)"
      ],
      "metadata": {
        "colab": {
          "base_uri": "https://localhost:8080/"
        },
        "id": "TKMZoacT7Fvs",
        "outputId": "66b01579-fd69-403b-dfbc-5cfaa3de3a8b"
      },
      "execution_count": null,
      "outputs": [
        {
          "output_type": "stream",
          "name": "stdout",
          "text": [
            "{1, 2}\n",
            "{1, 2}\n"
          ]
        }
      ]
    },
    {
      "cell_type": "code",
      "source": [
        "a = True\n",
        "b = False\n",
        "\n",
        "#Eu posso (se quiser sim) aplicar valores booleanos a partir de expressoes\n",
        "\n",
        "c = 1 < 2\n",
        "d = 7 > 10\n",
        "\n",
        "print(a,b,c,d)"
      ],
      "metadata": {
        "colab": {
          "base_uri": "https://localhost:8080/"
        },
        "id": "ArJoJAlK87mL",
        "outputId": "1dacd10c-efb4-48d5-d72e-51546cb8c4d8"
      },
      "execution_count": null,
      "outputs": [
        {
          "output_type": "stream",
          "name": "stdout",
          "text": [
            "True False True False\n"
          ]
        }
      ]
    },
    {
      "cell_type": "code",
      "source": [
        "#TUPLAS\n",
        "#varios tipos de dados\n",
        "tupla = ('um', 2, 'tres', True, 4.5, 'cinco ponto seis', False)\n",
        "\n",
        "print(tupla[2])\n",
        "print(tupla[2:5])\n",
        "print(\"--------------------------------------\")\n",
        "\n",
        "tupla2 = (1,2,2,3,3,3,4,4,4,4)\n",
        "\n",
        "#metodos que consguimos utilizar\n",
        "print(len(tupla2))\n",
        "print(tupla2.count(4))\n",
        "\n",
        "#nao conseguimos utilizar pois uma tupla é imutavel\n",
        "#append\n",
        "#pop\n",
        "#remove\n",
        "#index"
      ],
      "metadata": {
        "colab": {
          "base_uri": "https://localhost:8080/"
        },
        "id": "o-a6M8WB90iQ",
        "outputId": "ddc4fac2-de72-4b77-cfab-447f668c0c56"
      },
      "execution_count": null,
      "outputs": [
        {
          "output_type": "stream",
          "name": "stdout",
          "text": [
            "tres\n",
            "('tres', True, 4.5)\n",
            "--------------------------------------\n",
            "10\n",
            "4\n"
          ]
        }
      ]
    },
    {
      "cell_type": "code",
      "source": [
        "#Dictionaries\n",
        "#Sao de pares chave-valor\n",
        "#os elemntos sao acessados por chaves, nao por indicies\n",
        "#as chaves devem ter um valor unico, porem o valor pode se repetir\n",
        "\n",
        "dicionario = {'defenestrar':'tacar o benicio pela janela', 'ps5':'R$3500', 'chave1': 3}\n",
        "\n",
        "print(dicionario['defenestrar'])"
      ],
      "metadata": {
        "colab": {
          "base_uri": "https://localhost:8080/"
        },
        "id": "7YfipEHyDsSS",
        "outputId": "7da4106d-8314-4cb2-a1bb-81435cc9de16"
      },
      "execution_count": null,
      "outputs": [
        {
          "output_type": "stream",
          "name": "stdout",
          "text": [
            "tacar o benicio pela janela\n"
          ]
        }
      ]
    },
    {
      "cell_type": "code",
      "source": [
        "# {'chave':[valor1, valor2]}\n",
        "\n",
        "estatisticas = {'cr7':[30,15], 'messi':[2,0], 'caça rato':[90,50]}\n",
        "\n",
        "print(estatisticas['caça rato'][0])\n",
        "\n"
      ],
      "metadata": {
        "colab": {
          "base_uri": "https://localhost:8080/"
        },
        "id": "a61x7t1YGUps",
        "outputId": "b636bd0f-40a1-4da9-ea8a-a6a04b98b76e"
      },
      "execution_count": null,
      "outputs": [
        {
          "output_type": "stream",
          "name": "stdout",
          "text": [
            "90\n"
          ]
        }
      ]
    },
    {
      "cell_type": "code",
      "source": [
        "#desafio aula 4\n",
        "# Definindo o dicionário com os códigos e os preços dos itens\n",
        "tabela_precos = {\n",
        "    1: 4.00,\n",
        "    2: 4.50,\n",
        "    3: 5.00,\n",
        "    4: 2.00,\n",
        "    5: 1.50\n",
        "}\n",
        "\n",
        "# Lendo o código do item e a quantidade\n",
        "codigo_item = int(input(\"Digite o codigo do item: \"))\n",
        "quantidade = int(input(\"Digite a quantidade: \"))\n",
        "\n",
        "#Verificando se o codigo do item é valido\n",
        "if codigo_item in tabela_precos:\n",
        "  #calculando o valor total a ser pago\n",
        "  valor_total = tabela_precos[codigo_item] * quantidade\n",
        "\n",
        "  #formatando a saida com duas casas decimais\n",
        "  valor_formatado = round(valor_total, 2)\n",
        "\n",
        "  #imprimindo o valor total a ser pago\n",
        "  print(\"Total: R$\",valor_formatado)\n",
        "else:\n",
        "  print(\"Codigo de item invalido\")\n"
      ],
      "metadata": {
        "colab": {
          "base_uri": "https://localhost:8080/"
        },
        "id": "QHs8RCFBLNEF",
        "outputId": "f4a50fb0-0e63-4b68-e68e-514aabc139d0"
      },
      "execution_count": null,
      "outputs": [
        {
          "output_type": "stream",
          "name": "stdout",
          "text": [
            "Digite o codigo do item: 9\n",
            "Digite a quantidade: 1\n",
            "Codigo de item invalido\n"
          ]
        }
      ]
    },
    {
      "cell_type": "markdown",
      "source": [
        "#FUNCOES\n"
      ],
      "metadata": {
        "id": "Oj31FJV75dqh"
      }
    },
    {
      "cell_type": "code",
      "source": [
        "def bem_vindo():\n",
        "  print(\"Seja bem vindo \")\n",
        "\n",
        "bem_vindo()"
      ],
      "metadata": {
        "colab": {
          "base_uri": "https://localhost:8080/"
        },
        "id": "dw0gnNW_5fay",
        "outputId": "80e08357-2cb5-4c0f-b7d2-f0a0cbc2db55"
      },
      "execution_count": null,
      "outputs": [
        {
          "output_type": "stream",
          "name": "stdout",
          "text": [
            "Seja bem vindo \n"
          ]
        }
      ]
    },
    {
      "cell_type": "code",
      "source": [
        "def boas_vindas(nomeDeUsuario):\n",
        "  print(\"Seja bem-vindo, a aula\", nomeDeUsuario)\n",
        "\n",
        "boas_vindas(\"CR7\")\n"
      ],
      "metadata": {
        "colab": {
          "base_uri": "https://localhost:8080/"
        },
        "id": "6jWTJvxW7L4S",
        "outputId": "615e14cf-53a1-4c58-e2fb-6bb2b998b4b8"
      },
      "execution_count": null,
      "outputs": [
        {
          "output_type": "stream",
          "name": "stdout",
          "text": [
            "Seja bem-vindo, a aula CR7\n",
            "Seja bem-vindo, a aula CR7\n"
          ]
        }
      ]
    },
    {
      "cell_type": "code",
      "source": [
        "# Crie uma funçao chamada filme_favorito() que aceita um parametro chamado \"titulo\"\n",
        "#e a funcao deve exibir a mensagem \"Um dos meus filmes favoritos é .......\""
      ],
      "metadata": {
        "id": "gwcULaoD-kma"
      },
      "execution_count": null,
      "outputs": []
    },
    {
      "cell_type": "code",
      "source": [
        "# a formula da velocidade é V = D/T\n",
        "\n",
        "def velocidade(distancia, tempo):\n",
        "  velocidade = distancia // tempo\n",
        "  print(\"A sua velocidade é de: %d\" % (velocidade))\n",
        "\n",
        "velocidade(100, 20)\n",
        "\n",
        "def velocidade(tempo, distancia = 100):\n",
        "  velocidade = distancia // tempo\n",
        "  print(\"A sua velocidade é de: %d\" % (velocidade))\n",
        "\n",
        "velocidade(20)"
      ],
      "metadata": {
        "colab": {
          "base_uri": "https://localhost:8080/"
        },
        "id": "hNOrQ41FBefT",
        "outputId": "9c4dbd55-d137-4991-af61-5fa6957c2675"
      },
      "execution_count": null,
      "outputs": [
        {
          "output_type": "stream",
          "name": "stdout",
          "text": [
            "A sua velocidade é de: 5\n",
            "A sua velocidade é de: 5\n"
          ]
        }
      ]
    },
    {
      "cell_type": "code",
      "source": [
        "def menor(a, b):\n",
        "  if a<=b:\n",
        "    return a\n",
        "  else:\n",
        "    return b"
      ],
      "metadata": {
        "id": "yuoteQpPEv8V"
      },
      "execution_count": null,
      "outputs": []
    },
    {
      "cell_type": "code",
      "source": [
        "a = int(input(\"Digite o primeiro numero: \"))\n",
        "b = int(input(\"Digite o segundo numero: \"))\n",
        "\n",
        "print(\"O menor valor entre %d e %d é %d\" % (a, b, menor(a, b)))"
      ],
      "metadata": {
        "colab": {
          "base_uri": "https://localhost:8080/"
        },
        "id": "6pDzJUUeFQei",
        "outputId": "ad4ff69d-8e74-4dc2-8a7e-324a8b66b6cc"
      },
      "execution_count": null,
      "outputs": [
        {
          "output_type": "stream",
          "name": "stdout",
          "text": [
            "Digite o primeiro numero: 1\n",
            "Digite o segundo numero: 2\n",
            "O menor valor entre 1 e 2 é 1\n"
          ]
        }
      ]
    },
    {
      "cell_type": "markdown",
      "source": [
        "#MODULOS"
      ],
      "metadata": {
        "id": "HbgH4de9_uzJ"
      }
    },
    {
      "cell_type": "code",
      "source": [
        "#importando um modulo\n",
        "import math"
      ],
      "metadata": {
        "id": "_gLLGh6o_wZB"
      },
      "execution_count": null,
      "outputs": []
    },
    {
      "cell_type": "code",
      "source": [
        "#2 elevado a 4\n",
        "print(math.pow(2,4))\n",
        "\n",
        "#arredondando valores\n",
        "print(math.ceil(2.5))#arredondar para cima\n",
        "print(math.trunc(2.5))#arredonda para baixo"
      ],
      "metadata": {
        "colab": {
          "base_uri": "https://localhost:8080/"
        },
        "id": "1Mttt-YABfgT",
        "outputId": "baec259c-e4c9-4c82-d94a-da2a8f2ec4de"
      },
      "execution_count": null,
      "outputs": [
        {
          "output_type": "stream",
          "name": "stdout",
          "text": [
            "16.0\n",
            "3\n",
            "2\n"
          ]
        }
      ]
    },
    {
      "cell_type": "code",
      "source": [
        "#Como ver todas as funcoes de um modulo\n",
        "print(dir(math))"
      ],
      "metadata": {
        "colab": {
          "base_uri": "https://localhost:8080/"
        },
        "id": "q2TtgtC3CZoi",
        "outputId": "0a7c1aa0-7020-4d0f-acf9-7bc07af715fd"
      },
      "execution_count": null,
      "outputs": [
        {
          "output_type": "stream",
          "name": "stdout",
          "text": [
            "['__doc__', '__loader__', '__name__', '__package__', '__spec__', 'acos', 'acosh', 'asin', 'asinh', 'atan', 'atan2', 'atanh', 'ceil', 'comb', 'copysign', 'cos', 'cosh', 'degrees', 'dist', 'e', 'erf', 'erfc', 'exp', 'expm1', 'fabs', 'factorial', 'floor', 'fmod', 'frexp', 'fsum', 'gamma', 'gcd', 'hypot', 'inf', 'isclose', 'isfinite', 'isinf', 'isnan', 'isqrt', 'lcm', 'ldexp', 'lgamma', 'log', 'log10', 'log1p', 'log2', 'modf', 'nan', 'nextafter', 'perm', 'pi', 'pow', 'prod', 'radians', 'remainder', 'sin', 'sinh', 'sqrt', 'tan', 'tanh', 'tau', 'trunc', 'ulp']\n"
          ]
        }
      ]
    },
    {
      "cell_type": "code",
      "source": [
        "print(math.radians(100000000))"
      ],
      "metadata": {
        "colab": {
          "base_uri": "https://localhost:8080/"
        },
        "id": "9Et0ihltDHNp",
        "outputId": "c9925bfe-de97-43b6-c4ef-d0bd1c8b16a1"
      },
      "execution_count": null,
      "outputs": [
        {
          "output_type": "stream",
          "name": "stdout",
          "text": [
            "1745329.2519943295\n"
          ]
        }
      ]
    },
    {
      "cell_type": "code",
      "source": [
        "from google.colab import drive\n",
        "drive.mount('/content/gdrive')"
      ],
      "metadata": {
        "colab": {
          "base_uri": "https://localhost:8080/"
        },
        "id": "jzOjXBbJE5xJ",
        "outputId": "d38b4066-8d34-4709-c91e-aa6cc1b15734"
      },
      "execution_count": null,
      "outputs": [
        {
          "output_type": "stream",
          "name": "stdout",
          "text": [
            "Mounted at /content/gdrive\n"
          ]
        }
      ]
    },
    {
      "cell_type": "code",
      "source": [
        "import sys\n",
        "\n",
        "sys.path.insert(0, '/content/gdrive/MyDrive/Modulos')"
      ],
      "metadata": {
        "id": "Arw-E19UK23P"
      },
      "execution_count": null,
      "outputs": []
    },
    {
      "cell_type": "code",
      "source": [
        "import calculadora"
      ],
      "metadata": {
        "id": "uTl6ikV7NYe9"
      },
      "execution_count": null,
      "outputs": []
    },
    {
      "cell_type": "code",
      "source": [
        "calculadora.multiplicacao(5,5)"
      ],
      "metadata": {
        "colab": {
          "base_uri": "https://localhost:8080/"
        },
        "id": "39VSmPbJNdRF",
        "outputId": "01555f03-8aa4-4e06-b69b-a3b5c5a0a881"
      },
      "execution_count": null,
      "outputs": [
        {
          "output_type": "execute_result",
          "data": {
            "text/plain": [
              "25"
            ]
          },
          "metadata": {},
          "execution_count": 19
        }
      ]
    },
    {
      "cell_type": "markdown",
      "source": [
        "#ARQUIVOS"
      ],
      "metadata": {
        "id": "-4031cOmSHYH"
      }
    },
    {
      "cell_type": "code",
      "source": [
        "%%writefile texto.txt\n",
        "\n",
        "O benicio é um aluno de 13 alunos,\n",
        "Bryan joga Roblox,\n",
        "Riquelme é Santista,\n",
        "David já ganhou na mega sena e\n",
        "Vinicius joga beach tenis"
      ],
      "metadata": {
        "colab": {
          "base_uri": "https://localhost:8080/"
        },
        "id": "4OU2_XpPSIzc",
        "outputId": "bfb167eb-cd23-40b2-c41a-d7b294ef9da5"
      },
      "execution_count": null,
      "outputs": [
        {
          "output_type": "stream",
          "name": "stdout",
          "text": [
            "Writing texto.txt\n"
          ]
        }
      ]
    },
    {
      "cell_type": "code",
      "source": [
        "# Abre um arquivo txt já existente\n",
        "\n",
        "arquivo = open('texto.txt')"
      ],
      "metadata": {
        "id": "lQo_seGoS4fJ"
      },
      "execution_count": null,
      "outputs": []
    },
    {
      "cell_type": "code",
      "source": [
        "#Lê todo o arquivo\n",
        "arquivo.read()"
      ],
      "metadata": {
        "colab": {
          "base_uri": "https://localhost:8080/",
          "height": 53
        },
        "id": "KSP6Onn2TSqt",
        "outputId": "2488a789-323a-405a-e016-8459814098f8"
      },
      "execution_count": null,
      "outputs": [
        {
          "output_type": "execute_result",
          "data": {
            "text/plain": [
              "'O benicio é um aluno de 13 alunos,\\nBryan joga Roblox,\\nRiquelme é Santista,\\nDavid já ganhou na mega sena e \\nVinicius joga beach tenis\\n'"
            ],
            "application/vnd.google.colaboratory.intrinsic+json": {
              "type": "string"
            }
          },
          "metadata": {},
          "execution_count": 26
        }
      ]
    },
    {
      "cell_type": "code",
      "source": [
        "#Lê todo o arquivo novamente\n",
        "arquivo.read()"
      ],
      "metadata": {
        "colab": {
          "base_uri": "https://localhost:8080/",
          "height": 35
        },
        "id": "zGfgfKdFUNfu",
        "outputId": "d2a3e48c-3876-491c-d4b3-7d50fb9d736b"
      },
      "execution_count": null,
      "outputs": [
        {
          "output_type": "execute_result",
          "data": {
            "text/plain": [
              "''"
            ],
            "application/vnd.google.colaboratory.intrinsic+json": {
              "type": "string"
            }
          },
          "metadata": {},
          "execution_count": 27
        }
      ]
    },
    {
      "cell_type": "code",
      "source": [
        "#Procurando o inicio do arquivo\n",
        "arquivo.seek(0)\n",
        "#Agora a gente le o arquivo do inicio\n",
        "arquivo.read()"
      ],
      "metadata": {
        "colab": {
          "base_uri": "https://localhost:8080/",
          "height": 53
        },
        "id": "eIl-6aa2Un_6",
        "outputId": "73f15805-4fcc-4ba9-b3e0-948a0f0190e6"
      },
      "execution_count": null,
      "outputs": [
        {
          "output_type": "execute_result",
          "data": {
            "text/plain": [
              "'\\nO benicio é um aluno de 13 alunos,\\nBryan joga Roblox,\\nRiquelme é Santista,\\nDavid já ganhou na mega sena e \\nVinicius joga beach tenis\\n'"
            ],
            "application/vnd.google.colaboratory.intrinsic+json": {
              "type": "string"
            }
          },
          "metadata": {},
          "execution_count": 29
        }
      ]
    },
    {
      "cell_type": "code",
      "source": [
        "%%writefile herois.txt\n",
        "Miranha, Morceguinho, Totuguita\n",
        "Aranha-venenosa, Gelinho"
      ],
      "metadata": {
        "colab": {
          "base_uri": "https://localhost:8080/"
        },
        "id": "JGuhrQY7VcOB",
        "outputId": "167de188-5810-4916-b184-c636e9f5b6dc"
      },
      "execution_count": null,
      "outputs": [
        {
          "output_type": "stream",
          "name": "stdout",
          "text": [
            "Overwriting herois.txt\n"
          ]
        }
      ]
    },
    {
      "cell_type": "code",
      "source": [
        "arquivo = open('herois.txt')\n",
        "#Lendo linha por linha\n",
        "print(arquivo.readline())\n",
        "#Lendo segunda linha\n",
        "print(arquivo.readline())"
      ],
      "metadata": {
        "colab": {
          "base_uri": "https://localhost:8080/"
        },
        "id": "N4i1RAhiV2w-",
        "outputId": "b2ce4f3d-63de-4f8f-a847-9eadf91161e8"
      },
      "execution_count": null,
      "outputs": [
        {
          "output_type": "stream",
          "name": "stdout",
          "text": [
            "Miranha, Morceguinho, Totuguita \n",
            "\n",
            "Aranha-venenosa, Gelinho\n",
            "\n"
          ]
        }
      ]
    },
    {
      "cell_type": "code",
      "source": [
        "#Lnedo o arquivo inteiro com for\n",
        "arquivo = open('herois.txt', 'r')\n",
        "\n",
        "for x in arquivo:\n",
        "  print(x)"
      ],
      "metadata": {
        "colab": {
          "base_uri": "https://localhost:8080/"
        },
        "id": "qaZJjvEPW7PV",
        "outputId": "78d27c4a-f526-4373-ecf0-6bfeeda76cbb"
      },
      "execution_count": null,
      "outputs": [
        {
          "output_type": "stream",
          "name": "stdout",
          "text": [
            "Miranha, Morceguinho, Totuguita \n",
            "\n",
            "Aranha-venenosa, Gelinho\n",
            "\n"
          ]
        }
      ]
    },
    {
      "cell_type": "code",
      "source": [
        "#Adiciona um segundo argumento a funcao, w, para escrita\n",
        "arquivo = open('herois.txt', 'w')"
      ],
      "metadata": {
        "id": "Q8YK04bDYB93"
      },
      "execution_count": null,
      "outputs": []
    },
    {
      "cell_type": "code",
      "source": [
        "#escrever no arquivo\n",
        "arquivo.write('Latão, vencivel')"
      ],
      "metadata": {
        "colab": {
          "base_uri": "https://localhost:8080/"
        },
        "id": "wcLbxhUQYQke",
        "outputId": "a60a8edb-e990-431c-d9d9-d648869e962d"
      },
      "execution_count": null,
      "outputs": [
        {
          "output_type": "execute_result",
          "data": {
            "text/plain": [
              "15"
            ]
          },
          "metadata": {},
          "execution_count": 48
        }
      ]
    },
    {
      "cell_type": "code",
      "source": [
        "arquivo = open('herois.txt')\n",
        "arquivo.seek(0)\n",
        "arquivo.read()"
      ],
      "metadata": {
        "colab": {
          "base_uri": "https://localhost:8080/",
          "height": 35
        },
        "id": "g79No5IqYk2w",
        "outputId": "d35cb7ef-f764-4a3c-a469-ad2b2cd46860"
      },
      "execution_count": null,
      "outputs": [
        {
          "output_type": "execute_result",
          "data": {
            "text/plain": [
              "'Latão, vencivel'"
            ],
            "application/vnd.google.colaboratory.intrinsic+json": {
              "type": "string"
            }
          },
          "metadata": {},
          "execution_count": 51
        }
      ]
    },
    {
      "cell_type": "code",
      "source": [
        "arquivo = open('herois.txt')"
      ],
      "metadata": {
        "id": "3e0FRnshZrxC"
      },
      "execution_count": null,
      "outputs": []
    },
    {
      "cell_type": "code",
      "source": [
        "arquivo = close()"
      ],
      "metadata": {
        "colab": {
          "base_uri": "https://localhost:8080/",
          "height": 141
        },
        "id": "dP1zSccQZvPz",
        "outputId": "ed245a9f-3038-49b6-e620-b6d765322435"
      },
      "execution_count": null,
      "outputs": [
        {
          "output_type": "error",
          "ename": "NameError",
          "evalue": "name 'close' is not defined",
          "traceback": [
            "\u001b[0;31m---------------------------------------------------------------------------\u001b[0m",
            "\u001b[0;31mNameError\u001b[0m                                 Traceback (most recent call last)",
            "\u001b[0;32m<ipython-input-58-0f324fa28884>\u001b[0m in \u001b[0;36m<cell line: 1>\u001b[0;34m()\u001b[0m\n\u001b[0;32m----> 1\u001b[0;31m \u001b[0marquivo\u001b[0m \u001b[0;34m=\u001b[0m \u001b[0mclose\u001b[0m\u001b[0;34m(\u001b[0m\u001b[0;34m)\u001b[0m\u001b[0;34m\u001b[0m\u001b[0;34m\u001b[0m\u001b[0m\n\u001b[0m",
            "\u001b[0;31mNameError\u001b[0m: name 'close' is not defined"
          ]
        }
      ]
    },
    {
      "cell_type": "code",
      "source": [
        "nome = input(\"Digite sue nome: \")\n",
        "\n",
        "patati = \"patata\"\n",
        "\n",
        "print(patati)"
      ],
      "metadata": {
        "colab": {
          "base_uri": "https://localhost:8080/"
        },
        "id": "2kGSebR1G2eL",
        "outputId": "acf1ca6a-d9bc-4fd1-f5dd-09c10b86f03c"
      },
      "execution_count": 6,
      "outputs": [
        {
          "output_type": "stream",
          "name": "stdout",
          "text": [
            "Digite sue nome: oi\n",
            "patata\n"
          ]
        }
      ]
    },
    {
      "cell_type": "code",
      "source": [
        "def validar_senha(senha):\n",
        "  caracteres_especias = '!@#$%¨&*'\n",
        "\n",
        "  if len(senha) > 8 and any(char in caracteres_especias for char in senha):\n",
        "    return True\n",
        "  else:\n",
        "    return False\n",
        "\n",
        "senha1 = input(\"Digite sua senha: \")\n",
        "\n",
        "validar_senha(senha1)"
      ],
      "metadata": {
        "colab": {
          "base_uri": "https://localhost:8080/"
        },
        "id": "skWe7meBMB1S",
        "outputId": "fb38684e-7cce-47ee-f016-23808448e375"
      },
      "execution_count": 10,
      "outputs": [
        {
          "name": "stdout",
          "output_type": "stream",
          "text": [
            "Digite sua senha: abcdefg!\n"
          ]
        },
        {
          "output_type": "execute_result",
          "data": {
            "text/plain": [
              "False"
            ]
          },
          "metadata": {},
          "execution_count": 10
        }
      ]
    }
  ]
}